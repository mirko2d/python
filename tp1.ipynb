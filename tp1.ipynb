{
 "cells": [
  {
   "cell_type": "markdown",
   "metadata": {},
   "source": [
    "# Criterios de evaluación.\n",
    "\n",
    "* Se deben utilizar nombres de variables descriptivos y claros (Utilizar la nomeclatura correspondiente para los nombres de variables).\n",
    "* Comentarios claros y concisos que expliquen el propósito de cada sección del código.\n",
    "* Entrega en tiempo y forma.\n",
    "* Todo el código desarrollado debe ser subido a un repositorio en GitHub (el nombre del repositorio de seguir la siguiente estructura: tp1_tlp3_nombre_apellido).\n",
    "\n",
    "\n",
    "**Aclaración: Para resolver las actividades se debe incertar casillas de codigo entre cada actividad del cuaderno de Jupyter**"
   ]
  },
  {
   "cell_type": "markdown",
   "metadata": {},
   "source": [
    "### 1. **Hola Mundo y Variables**\n",
    "\n",
    "   - **Actividad 1.1**: Deben escribir un programa que imprima \"¡Hola, Mundo!\" en la consola.\n",
    "   - **Actividad 1.2**: Deben crear una variable llamada `nombre` y hacer que el programa imprima un saludo personalizado: `Hola, <nombre>!`"
   ]
  },
  {
   "cell_type": "code",
   "execution_count": null,
   "metadata": {},
   "outputs": [
    {
     "name": "stdout",
     "output_type": "stream",
     "text": [
      "¡hola mundo!\n",
      "hola, Mirko!\n"
     ]
    }
   ],
   "source": [
    "\n",
    "# todo: Resolución\n",
    "print (\"¡hola mundo!\") # imprime hola mundo \n",
    "\n",
    "nombre= \"Mirko\" # declara la variable como mirko\n",
    " \n",
    "print (\"hola, \" + nombre + \"!\")  # imprime el mensaje con el nombre que le dimos antes"
   ]
  },
  {
   "cell_type": "markdown",
   "metadata": {},
   "source": [
    "### 2. **Operaciones Matemáticas Básicas**\n",
    "\n",
    "   - **Actividad 1.1**: Crear un programa que pida al usuario dos números y realice las cuatro operaciones matemáticas básicas (suma, resta, multiplicación y división), imprimiendo los resultados.\n",
    "   - **Actividad 1.2**: Hacer que el programa calcule el promedio de los dos números."
   ]
  },
  {
   "cell_type": "code",
   "execution_count": 4,
   "metadata": {},
   "outputs": [
    {
     "name": "stdout",
     "output_type": "stream",
     "text": [
      "suma :  12\n",
      "resta :  8\n",
      "multiplicacion 20\n",
      "division 5.0\n"
     ]
    }
   ],
   "source": [
    "\n",
    "# todo: Resolución\n",
    "num1 = int(input(\"coloque el primer numero\")) # pide el primer numero\n",
    "num2 = int(input(\"coloque el segundo numero\")) # pide el segundo numero\n",
    "\n",
    "suma = num1 + num2 #realiza la suma\n",
    "resta = num1 - num2 #realiza la resta\n",
    "multiplicacion = num1 * num2 #realiza la multiplicacion\n",
    "division = num1 / num2 # realiza la division\n",
    "\n",
    "print(\"suma : \", suma)\n",
    "print (\"resta : \",resta)\n",
    "print (\"multiplicacion\", multiplicacion)\n",
    "print (\"division\" , division )\n",
    "\n",
    "\n",
    "\n"
   ]
  },
  {
   "cell_type": "code",
   "execution_count": null,
   "metadata": {},
   "outputs": [
    {
     "name": "stdout",
     "output_type": "stream",
     "text": [
      "el promedio es 9.0\n"
     ]
    }
   ],
   "source": [
    "\n",
    "num1 = int(input(\"coloque el primer numero\")) # pide el primer numero\n",
    "num2 = int(input(\"coloque el segundo numero\")) # pide el segundo numero\n",
    "\n",
    "promedio = (num1 + num2 ) /2  #saca el promedio \n",
    "\n",
    "print (\"el promedio es\" , promedio ) #imprime el promedio"
   ]
  },
  {
   "cell_type": "markdown",
   "metadata": {},
   "source": [
    "### 3. **Condicionales (if-else)**\n",
    "\n",
    "   - **Actividad 1.1**: Escribir un programa que pida al usuario su edad y le diga si es mayor de edad (18 años o más).\n",
    "   - **Actividad 1.2**: Agregar un mensaje diferente para diferentes rangos de edad, como por ejemplo, si es un niño, adolescente o adulto."
   ]
  },
  {
   "cell_type": "code",
   "execution_count": null,
   "metadata": {},
   "outputs": [],
   "source": [
    "\n",
    "# todo: Resolución\n",
    "edad = int(input(\"Ingrese su edad\"))    # Se pide al usuario que ingrese su edad\n",
    "\n",
    "if edad >= 18:      #sila edad ingresada es mayor o igual a 18 se imprime el mensaje de abajo\n",
    "    print(\"Usted es mayor de edad\")\n",
    "else:   \n",
    "    print(\"Usted no es mayor de edad\") # Si es menor a 18 se imprime el mensaje"
   ]
  },
  {
   "cell_type": "code",
   "execution_count": null,
   "metadata": {},
   "outputs": [],
   "source": [
    "edad = int(input(\"Ingrese su edad\")) # Se pide al usuario que ingrese su eda\n",
    "\n",
    "if edad >= 18:      # Si la edad ingresada es mayor o igual a 18 se imprime el mensaje de abajo\n",
    "    print(\"es un adulto\")\n",
    "elif edad > 12 and edad <18:   # Si la edad ingresada es desde 13 a 17 se imprime el mensaje de abajo\n",
    "    print(\" es un adolescente\")\n",
    "elif edad > 0 and edad < 13:    # Si la edad ingresada es desde 1 a 12 se imprime el mensaje de abajo\n",
    "    print(\"es un niño \")\n"
   ]
  },
  {
   "cell_type": "markdown",
   "metadata": {},
   "source": [
    "### 4. **Ciclos (while, for)**\n",
    "\n",
    "   - **Actividad 1.1**: Escribir un programa que imprima los números del 1 al 10 usando un bucle `for`.\n",
    "   - **Actividad 1.2**: Usar un bucle `while` para imprimir los números del 1 al 10, e imprimir solo aquellos números que sean divisibles por 2."
   ]
  },
  {
   "cell_type": "code",
   "execution_count": null,
   "metadata": {},
   "outputs": [
    {
     "name": "stdout",
     "output_type": "stream",
     "text": [
      "1\n",
      "2\n",
      "3\n",
      "4\n",
      "5\n",
      "6\n",
      "7\n",
      "8\n",
      "9\n",
      "10\n"
     ]
    }
   ],
   "source": [
    "\n",
    "# todo: Resolución\n",
    "for i in range(1,11):   #Se imprimen los números desde el 1 al 10 , el range genera la secuencia de numeros \n",
    "    print(i)"
   ]
  },
  {
   "cell_type": "code",
   "execution_count": 5,
   "metadata": {},
   "outputs": [
    {
     "name": "stdout",
     "output_type": "stream",
     "text": [
      "2\n",
      "4\n",
      "6\n",
      "8\n",
      "10\n"
     ]
    }
   ],
   "source": [
    "i = 1 # declaramos el indice 1\n",
    "\n",
    "while i <= 10: # cuando i es menor o igual a 10\n",
    "    if i % 2 == 0 : # se realiza los calculos para saber cuando es divisible por 2\n",
    "        print (i) # imprime los numeros\n",
    "    i = i + 1"
   ]
  },
  {
   "cell_type": "markdown",
   "metadata": {},
   "source": [
    "### 5. **Listas y Bucles**\n",
    "\n",
    "   - **Actividad 1.1**: Crear una lista con 5 números y escribir un programa que imprima cada número de la lista usando un bucle `for`.\n",
    "   - **Actividad 1.2**: Usar un bucle para calcular la suma de los números de la lista."
   ]
  },
  {
   "cell_type": "code",
   "execution_count": 6,
   "metadata": {},
   "outputs": [
    {
     "name": "stdout",
     "output_type": "stream",
     "text": [
      "1\n",
      "5\n",
      "7\n",
      "3\n",
      "4\n"
     ]
    }
   ],
   "source": [
    "\n",
    "# todo: Resolución\n",
    "\n",
    "lista_numero = [1,5,7,3,4]\n",
    "\n",
    "for numero in lista_numero:\n",
    "    print (numero)\n"
   ]
  },
  {
   "cell_type": "code",
   "execution_count": 1,
   "metadata": {},
   "outputs": [
    {
     "name": "stdout",
     "output_type": "stream",
     "text": [
      "la suma es 20\n"
     ]
    }
   ],
   "source": [
    "lista_numero = [1,5,7,3,4]\n",
    "suma = 0\n",
    "\n",
    "for numero in lista_numero:\n",
    "    suma = suma + numero\n",
    "\n",
    "print (\"la suma es\", suma)"
   ]
  },
  {
   "cell_type": "markdown",
   "metadata": {},
   "source": [
    "### 6. **Funciones**\n",
    "\n",
    "   - **Actividad 1.1**: Escribir una función llamada `saludo` que reciba un nombre como parámetro y devuelva un saludo personalizado.\n",
    "   - **Actividad 1.2**: Crear una función que reciba dos números y devuelva su suma, resta, multiplicación y división."
   ]
  },
  {
   "cell_type": "code",
   "execution_count": null,
   "metadata": {},
   "outputs": [],
   "source": [
    "\n",
    "# todo: Resolución\n",
    "def saludo(nombre):   #Se define la funcion salido con el parámetro nombre\n",
    "    return f\"Hola, {nombre}\" #Devuelve el mensaje con el parámetro\n",
    "\n",
    "nombre_persona = \"Mirko\"     #se pone el nombre\n",
    "mensaje = saludo(nombre_persona)    #llamamos a la función y le mandamos el nombre que ingresamos arriba\n",
    "\n",
    "print(mensaje)  #Se imprime el mensaje"
   ]
  },
  {
   "cell_type": "code",
   "execution_count": null,
   "metadata": {},
   "outputs": [],
   "source": [
    "def calculos(num1, num2):   #se crea una función con los calculos\n",
    "    suma = num1 + num2\n",
    "    resta = num1 - num2\n",
    "    multi = num1 * num2\n",
    "    division = num1 / num2\n",
    "    return suma, resta, multi, division    #devuelve los resultados \n",
    "\n",
    "resultado_suma, resultado_resta, resultado_multi, resultado_division = calculos(10, 5) #se guardan los valores en las variables y se imprimen\n",
    "print(\"Suma:\", resultado_suma)\n",
    "print(\"Resta:\", resultado_resta)\n",
    "print(\"Multiplicación:\", resultado_multi)"
   ]
  },
  {
   "cell_type": "markdown",
   "metadata": {},
   "source": [
    "### 7. **Manejo de cadenas de texto**\n",
    "\n",
    "   - **Actividad 1.1**: Escribir un programa que pida al usuario su nombre y lo imprima en mayúsculas y en minúsculas.\n",
    "   - **Actividad 1.2**: Hacer que el programa imprima la longitud del nombre ingresado (no tener en cuenta los espacios en blanco)."
   ]
  },
  {
   "cell_type": "code",
   "execution_count": null,
   "metadata": {},
   "outputs": [
    {
     "name": "stdout",
     "output_type": "stream",
     "text": [
      "MIRKO\n",
      "mirko\n"
     ]
    }
   ],
   "source": [
    "nombre_usuario = input(\"Ingrese su nombre de usuario\")  #se pide al usuario que ingrese su nombre \n",
    "print(nombre_usuario.upper())   # nombre en mayúsculas\n",
    "print(nombre_usuario.lower())   #el nombre en minúsculas"
   ]
  },
  {
   "cell_type": "code",
   "execution_count": null,
   "metadata": {},
   "outputs": [],
   "source": [
    "nombre_usuario = input(\"Ingrese su nombre de usuario\")  #se pide al usuario que ingrese su nombre de usuario\n",
    "\n",
    "sin_espacios = \"\"   #se almacenan los espacios vacios en esta variable\n",
    "\n",
    "for letra in nombre_usuario:    # se va a recorrer cada letra de lo que se ingresó\n",
    "    if letra != \" \":    #si no tiene un espacio\n",
    "        sin_espacios = (sin_espacios + letra)   # se agrega la letra a la nueva variable\n",
    "\n",
    "longitud = len(sin_espacios)    # se cuentan las letras sin espacios\n",
    "\n",
    "print(longitud)"
   ]
  },
  {
   "cell_type": "markdown",
   "metadata": {},
   "source": [
    "### 8. **Diccionarios**\n",
    "\n",
    "   - **Actividad1.1**: Crear un diccionario que contenga los nombres de tres personas como claves y sus edades como valores. El programa debe imprimir la edad de cada persona.\n",
    "   - **Actividad1.2**: Escribir un programa que pregunte al usuario un nombre, luego su edad y los agregue al diccionario."
   ]
  },
  {
   "cell_type": "code",
   "execution_count": null,
   "metadata": {},
   "outputs": [
    {
     "name": "stdout",
     "output_type": "stream",
     "text": [
      "La edad de mirko es: 19\n",
      "La edad de maximo es: 22\n",
      "La edad de rodrigo es: 20\n"
     ]
    }
   ],
   "source": [
    "\n",
    "# todo: Resolución\n",
    "datos_personas = {\"mirko\": 19, \"maximo\": 22, \"rodrigo\": 20}   #se crea el diccionario\n",
    "print(\"La edad de mirko es:\", datos_personas[\"mirko\"])    #se ingresan los datos de las persona y se imprime\n",
    "print(\"La edad de maximo es:\", datos_personas[\"maximo\"])\n",
    "print(\"La edad de rodrigo es:\", datos_personas[\"rodrigo\"])"
   ]
  },
  {
   "cell_type": "code",
   "execution_count": null,
   "metadata": {},
   "outputs": [],
   "source": [
    "datos_usuario = {}  #se crea un diccionario vacio para almacenar nuevos datos\n",
    "\n",
    "nombre_usuario = input(\"Ingrese su nombre\") # pide el nombre\n",
    "edad_usuario = input(\"Ingrese su edad\") # pide la edad\n",
    "\n",
    "datos_usuario[nombre_usuario] = edad_usuario   #se envia el nombre como clave y la edad como valor\n",
    "print(datos_usuario)"
   ]
  },
  {
   "cell_type": "markdown",
   "metadata": {},
   "source": [
    "### 9. **Números aleatorios**\n",
    "\n",
    "   - **Actividad 1.1**: Escribir un programa que genere 5 números aleatorios entre 1 y 100, lo imprima por consola y diga si es mayor o menor a 50.\n",
    "   - **Actividad 1.2**: Sumar los 5 números generados aleatoriamente y en caso de que el resultado sea mayor a 100, mostrar el valor antes de ser mayor a 100 y cuantos números se sumaron para llegar a dicho valor."
   ]
  },
  {
   "cell_type": "code",
   "execution_count": null,
   "metadata": {},
   "outputs": [],
   "source": [
    "\n",
    "# todo: Resolución\n",
    "import random   #Se importa la líbreria para generar números aleatorios\n",
    "\n",
    "for i in range(5):  #commo pide el ejercicio se generan solo 5 números\n",
    "    numero = random.randint(1,100)  #se generan números entre 1 y 100\n",
    "    if numero > 50: #si el número es mayor a 50 se imprime el mensaje de abajo\n",
    "        print(numero, \"(es mayor a 50)\")\n",
    "    elif numero < 50:   #so el número es menor a 50 se imprime el mensaje de abajo\n",
    "        print(numero, \"(es menor a 50)\")\n",
    "    else:   # si el número es igual a 50 se imprime el mensaje de abajo\n",
    "        print(numero, \"(es igual a 50)\")"
   ]
  },
  {
   "cell_type": "code",
   "execution_count": null,
   "metadata": {},
   "outputs": [],
   "source": [
    "import random   #Se importa la líbreria para generar números aleatorios\n",
    "suma_numeros = 0 #Se inician variables para la suma de los números y el contador de números\n",
    "contador = 0\n",
    "\n",
    "for i in range(5): #En un rango de 5\n",
    "    numero = random.randint(1,100)  # Se generan números entre 1 y 100\n",
    "    suma_numeros = suma_numeros + numero    #Se suman los números generados\n",
    "    contador = contador + 1 #El contador de números se incrementa\n",
    "\n",
    "    if suma_numeros > 100:  #Si la suma de números es mayor a 100 entonces se imprime:\n",
    "        print(\"Valor antes de superar 100:\", suma_numeros - numero) #Se muestra el valor previo antes de superar 100\n",
    "        print(\"Cantidad de números sumados:\", contador - 1) #Se muestran los valores antes de superar el 100\n",
    "        break   #Se cierra el ciclo for"
   ]
  },
  {
   "cell_type": "markdown",
   "metadata": {},
   "source": [
    "### 10. **Proyecto Final: Calculadora**\n",
    "\n",
    "   - **Actividad 1.1**: Los estudiantes deben crear una calculadora básica que permita realizar operaciones de suma, resta, multiplicación y división con entradas del usuario. El programa debe pedir al usuario que elija la operación y luego introducir 2 números para realizar el cálculo.\n",
    "   - **Actividad 1.2**: Implementar una opción para que el usuario pueda continuar haciendo cálculos o salir del programa."
   ]
  },
  {
   "cell_type": "code",
   "execution_count": null,
   "metadata": {},
   "outputs": [],
   "source": [
    "\n",
    "# todo: Resolución\n",
    "def suma(a, b): #Se crean funciones para todas las operaciones que van a recibir dos valores\n",
    "    return a + b\n",
    "\n",
    "def resta(a, b):\n",
    "    return a - b\n",
    "\n",
    "def multiplicacion(a, b):\n",
    "    return a * b\n",
    "\n",
    "def division(a, b):\n",
    "    return a / b\n",
    "\n",
    "print(\"OPERACIONES\")    #Esta parte es más que nada una guía para el usuario\n",
    "print(\"1-SUMA\")\n",
    "print(\"2-RESTA\")\n",
    "print(\"3-MULTIPLICACIÓN\")\n",
    "print(\"4-DIVISIÓN\")\n",
    "\n",
    "operacion = input(\"Ingrese el numero de la operación que quiera realizar:\") #Se le pide al usuario que seleccione la operación\n",
    "\n",
    "num1 = int(input(\"Ingrese el valor del primer número\")) #Se le pide al usuario que ingrese los dos números que quiere calcular\n",
    "num2 = int(input(\"Ingrese el valor del segundo número\"))\n",
    "\n",
    "if operacion == \"1\":    #Si el usuario al elegir la operación ingresa \"1\" entonces va a poder hacer una suma\n",
    "    resultado = suma(num1, num2)\n",
    "    print(\"El resultado de la suma es:\", resultado) #Se imprime el resultado de la suma\n",
    "elif operacion == \"2\":  #Si el usuario al elegir la operación ingresa \"2\" entonces va a poder hacer una resta y asi con los demás\n",
    "    resultado = resta(num1, num2)\n",
    "    print(\"El resultado de la resta es:\", resultado) #Se imprime el resultado de la resta\n",
    "elif operacion == \"3\":\n",
    "    resultado = multiplicacion(num1, num2)\n",
    "    print(\"El resultado de la multiplicación es:\", resultado) #Se imprime el resultado de la multiplicación\n",
    "elif operacion == \"4\":\n",
    "    resultado = division(num1, num2) \n",
    "    print(\"El resultado de la división es:\", resultado) #Se imprime el resultado de la división\n",
    "else:\n",
    "    print(\"Opción no valída\") #Si ingresa cualquier otro número se imprime el mensaje"
   ]
  },
  {
   "cell_type": "code",
   "execution_count": null,
   "metadata": {},
   "outputs": [],
   "source": [
    "def suma(a, b): #Se crean funciones para todas las operaciones que van a recibir dos valores\n",
    "    return a + b\n",
    "\n",
    "def resta(a, b):\n",
    "    return a - b\n",
    "\n",
    "def multiplicacion(a, b):\n",
    "    return a * b\n",
    "\n",
    "def division(a, b):\n",
    "    return a / b\n",
    "\n",
    "while True: #A diferencia del código de arriba, este utiliza el while para que se ejecute lo que este adentro las veces que queramos\n",
    "    print(\"OPERACIONES\")\n",
    "    print(\"1-SUMA\")\n",
    "    print(\"2-RESTA\")\n",
    "    print(\"3-MULTIPLICACIÓN\")\n",
    "    print(\"4-DIVISIÓN\")\n",
    "\n",
    "    operacion = input(\"Ingrese el numero de la operación que quiera realizar:\")\n",
    "\n",
    "    num1 = int(input(\"Ingrese el valor del primer número\"))\n",
    "    num2 = int(input(\"Ingrese el valor del segundo número\"))\n",
    "\n",
    "    if operacion == \"1\":\n",
    "        resultado = suma(num1, num2)\n",
    "        print(\"El resultado de la suma es:\", resultado)\n",
    "    elif operacion == \"2\":\n",
    "        resultado = resta(num1, num2)\n",
    "        print(\"El resultado de la resta es:\", resultado)\n",
    "    elif operacion == \"3\":\n",
    "        resultado = multiplicacion(num1, num2)\n",
    "        print(\"El resultado de la multiplicación es:\", resultado)\n",
    "    elif operacion == \"4\":\n",
    "        resultado = division(num1, num2)\n",
    "        print(\"El resultado de la división es:\", resultado)\n",
    "    else:\n",
    "        print(\"Opción no valída\")\n",
    "\n",
    "    print(\"--------------------------------------------------------\")   #Esto es para separar resultados y que se distinga mejor\n",
    "    \n",
    "    continuar = input(\"¿Desea realizar otra operación?\")  #Se agrego la posibilidad de que el usuario pueda seguir haciendo operaciones\n",
    "    if continuar != \"si\": #Si escribe \"si\" va a poder seguir realizando operaciones\n",
    "        break  #Termina el bucle"
   ]
  },
  {
   "cell_type": "markdown",
   "metadata": {},
   "source": [
    "### EXTRA. **Juegos Simples (Adivina el número)**\n",
    "\n",
    "   - **Actividad 1.1**: Escribir un juego donde el programa elija un número aleatorio entre 1 y 100 y el usuario tenga que adivinarlo. El programa debe dar pistas si el número es mayor o menor.\n",
    "   - **Actividad 1.2**: Limitar el número de intentos y mostrar un mensaje de éxito o fracaso al final."
   ]
  },
  {
   "cell_type": "code",
   "execution_count": null,
   "metadata": {},
   "outputs": [],
   "source": []
  }
 ],
 "metadata": {
  "kernelspec": {
   "display_name": "Python 3",
   "language": "python",
   "name": "python3"
  },
  "language_info": {
   "codemirror_mode": {
    "name": "ipython",
    "version": 3
   },
   "file_extension": ".py",
   "mimetype": "text/x-python",
   "name": "python",
   "nbconvert_exporter": "python",
   "pygments_lexer": "ipython3",
   "version": "3.13.2"
  }
 },
 "nbformat": 4,
 "nbformat_minor": 2
}
